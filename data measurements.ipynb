{
 "cells": [
  {
   "cell_type": "code",
   "execution_count": 2,
   "metadata": {},
   "outputs": [],
   "source": [
    "import numpy as np\n",
    "from scipy import stats"
   ]
  },
  {
   "cell_type": "code",
   "execution_count": 11,
   "metadata": {},
   "outputs": [],
   "source": [
    "# pendulum measurements\n",
    "\n",
    "H_tape = np.array([21.886, 21.891, 21.897, 21.891, 21.908]) #[m]\n",
    "H_tape_err = 0.005#[m]\n",
    "\n",
    "H_laser = np.array([22.153, 22.154, 22.153, 22.152, 22.152]) #[m]\n",
    "H_laser_err = 0.001 #[m]\n",
    "\n",
    "H_weight = 0.1 #[m]\n",
    "H_weight_err = 0.001 #[m]\n",
    "\n",
    "H_floor_to_weight = np.array([0.152, 0.153, 0.153, 0.1535, 0.154]) #[m]\n",
    "H_floor_to_weight_err = 0.001 #[m]\n",
    "\n",
    "H_tape = H_tape + H_weight/2\n",
    "H_tape_err = H_tape_err + H_weight_err\n",
    "\n",
    "H_laser = H_laser - H_floor_to_weight + H_weight/2\n",
    "H_laser_err = H_laser_err + H_floor_to_weight_err + H_weight_err"
   ]
  },
  {
   "cell_type": "code",
   "execution_count": 4,
   "metadata": {},
   "outputs": [],
   "source": [
    "# slope measurements\n",
    "\n",
    "ball_diameter_large = 15/1000 #[m]\n",
    "ball_diameter_small = 12/1000 #[m]\n",
    "ball_diameter_err = 0.0001 #[m]\n",
    "\n",
    "# inclines, all in [degrees]\n",
    "west_north_incline = np.array([13.9, 13.9, 13.9, 13.9, 14])\n",
    "west_south_incline = np.array([13.4, 13.3, 13.3, 13.32, 13.6])\n",
    "\n",
    "east_north_incline = np.array([13.8, 13.8, 13.6, 13.55, 13.9])\n",
    "east_south_incline = np.array([14, 13.9, 14, 13.98, 14])\n",
    "incline_err = 0.1\n",
    "\n",
    "rail_diameter = np.array([6.0, 6.0, 5.9, 6.1, 6.0])/1000 #[m]\n",
    "rail_diameter_err = 0.0001 #[m]\n",
    "\n",
    "gate_positions = np.array([[22.55, 38.2, 55.9, 72.35, 90.25], \n",
    "                           [21.6, 38.1, 55.85, 72.3, 90.3], \n",
    "                           [21.55, 38.1, 55.85, 72.3, 90.25],\n",
    "                           [21.63, 38.1, 55.85, 72.35, 90.25],\n",
    "                           [21.57, 38.1, 55.85, 72.25, 90.25]])/100 #[m]\n",
    "\n",
    "length_rail = np.array([90.15, 90.18, 90.25, 90.25, 90.15])/100 #[m]\n",
    "height_rail = np.array([22.2, 22.1, 22.19, 22.15, 22.1])/100 #[m]\n"
   ]
  },
  {
   "cell_type": "code",
   "execution_count": null,
   "metadata": {},
   "outputs": [],
   "source": []
  }
 ],
 "metadata": {
  "kernelspec": {
   "display_name": "Python 3",
   "language": "python",
   "name": "python3"
  },
  "language_info": {
   "codemirror_mode": {
    "name": "ipython",
    "version": 3
   },
   "file_extension": ".py",
   "mimetype": "text/x-python",
   "name": "python",
   "nbconvert_exporter": "python",
   "pygments_lexer": "ipython3",
   "version": "3.11.4"
  }
 },
 "nbformat": 4,
 "nbformat_minor": 2
}
